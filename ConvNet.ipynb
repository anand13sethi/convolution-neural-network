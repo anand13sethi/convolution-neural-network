{
 "cells": [
  {
   "cell_type": "code",
   "execution_count": 18,
   "metadata": {},
   "outputs": [],
   "source": [
    "import numpy as np\n",
    "import skimage as sk"
   ]
  },
  {
   "cell_type": "code",
   "execution_count": 156,
   "metadata": {},
   "outputs": [
    {
     "data": {
      "text/plain": [
       "(1, 32, 32)"
      ]
     },
     "execution_count": 156,
     "metadata": {},
     "output_type": "execute_result"
    }
   ],
   "source": [
    "input_img = sk.data.chelsea()\n",
    "input_img = sk.color.rgb2gray(input_img)\n",
    "input_img = sk.transform.resize(input_img, (32, 32), anti_aliasing = True, mode = 'reflect')\n",
    "input_img.shape = (1, 32, 32)\n",
    "input_img.shape"
   ]
  },
  {
   "cell_type": "code",
   "execution_count": 132,
   "metadata": {},
   "outputs": [],
   "source": [
    "class conv_layer:\n",
    "    def __init__(self, channels, filters, filter_size, stride):\n",
    "        self.channels = channels\n",
    "        self.filters = filters\n",
    "        self.filter_size = filter_size\n",
    "        self.stride = stride\n",
    "        \n",
    "        self.weights = np.zeros((self.filters, self.channels, self.filter_size, self.filter_size))\n",
    "        self.bias = np.random.rand(self.filters, 1)\n",
    "        \n",
    "        for i in range(self.filters):\n",
    "            self.weights[i,:,:,:] = np.random.normal(loc = 0, scale = np.sqrt(1./(self.channels*self.filter_size*self.filter_size)), size = (self.channels, self.filter_size, self.filter_size))\n",
    "            \n",
    "    def forward(self, inp):\n",
    "        self.c, self.w, self.h = inp.shape\n",
    "        new_w = (self.w - self.filter_size)//self.stride + 1\n",
    "        new_h = (self.h - self.filter_size)//self.stride + 1\n",
    "        \n",
    "        feature_map = np.zeros((self.filters, new_w, new_h))\n",
    "        for f in range(self.filters):\n",
    "            for i in range(new_w):\n",
    "                for j in range(new_h):\n",
    "                    feature_map[f, i, j] = np.sum(inp[:, i:i+self.filter_size, j:j+self.filter_size] * self.weights[f,:,:,:]) + self.bias[f]\n",
    "        \n",
    "        return feature_map"
   ]
  },
  {
   "cell_type": "code",
   "execution_count": 130,
   "metadata": {},
   "outputs": [],
   "source": [
    "class pool_layer:\n",
    "    def __init__(self, pool_size, stride):\n",
    "        self.pool_size = pool_size\n",
    "        self.stride = stride\n",
    "    \n",
    "    def forward(self, inp):\n",
    "        self.c, self.w, self.h = inp.shape\n",
    "        new_w = (self.w - self.pool_size)//self.stride + 1\n",
    "        new_h = (self.h - self.pool_size)//self.stride + 1\n",
    "        \n",
    "        feature_map = np.zeros((self.c, new_w, new_h))\n",
    "        for c in range(self.c):\n",
    "            for i in range(self.w//self.stride):\n",
    "                for j in range(self.w//self.stride):\n",
    "                    feature_map[c, i, j] = np.max(inp[c, i*self.stride:i*self.stride+self.pool_size, j*self.stride:j*self.stride+self.pool_size])\n",
    "        return feature_map"
   ]
  },
  {
   "cell_type": "code",
   "execution_count": 109,
   "metadata": {},
   "outputs": [],
   "source": [
    "class fully_connected_layer:\n",
    "    def __init__(self, nodes_curr_layer, nodes_next_layer):\n",
    "        self.nodes_curr_layer = nodes_curr_layer\n",
    "        self.nodes_next_layer = nodes_next_layer\n",
    "        \n",
    "        self.weight = np.random.rand(self.nodes_curr_layer, self.nodes_next_layer)\n",
    "        self.bias = np.random.rand(1, self.nodes_next_layer)\n",
    "    \n",
    "    def forward(self, inp):\n",
    "        self.mul = inp @ self.weight\n",
    "        self.Z = np.add(self.mul, self.bias)\n",
    "        return self.Z"
   ]
  },
  {
   "cell_type": "code",
   "execution_count": 102,
   "metadata": {},
   "outputs": [],
   "source": [
    "class flatten:\n",
    "    def __init__(self):\n",
    "        pass\n",
    "    def forward(self, inp):\n",
    "        self.c, self.w, self.h = inp.shape\n",
    "        return inp.reshape(1, self.c * self.w * self.h)"
   ]
  },
  {
   "cell_type": "code",
   "execution_count": 157,
   "metadata": {},
   "outputs": [],
   "source": [
    "class activation_func:\n",
    "    def __init__(self, func):\n",
    "        self.func = func\n",
    "    \n",
    "    def forward(self, inp):\n",
    "        if self.func == 'relu':\n",
    "            inp[inp < 0] = 0\n",
    "            return inp\n",
    "        elif self.func == 'sigmoid':\n",
    "            return 1/1 + np.exp(inp - np.max(inp))\n",
    "        elif self.func == 'softmax':\n",
    "            exp = np.exp(inp, dtype = np.float)\n",
    "            return exp/np.sum(exp)"
   ]
  },
  {
   "cell_type": "code",
   "execution_count": 160,
   "metadata": {},
   "outputs": [],
   "source": [
    "class conv_neural_net:\n",
    "    def __init__(self):\n",
    "        self.layers = []\n",
    "        self.layers.append(conv_layer(1, 6, 5, 1))\n",
    "        self.layers.append(pool_layer(2, 2))\n",
    "        self.layers.append(activation_func('relu'))\n",
    "        self.layers.append(conv_layer(6, 16, 5, 1))\n",
    "        self.layers.append(pool_layer(2, 2))\n",
    "        self.layers.append(activation_func('relu'))\n",
    "        self.layers.append(conv_layer(16, 120, 5, 1))\n",
    "        self.layers.append(activation_func('relu'))\n",
    "        self.layers.append(flatten())\n",
    "        self.layers.append(fully_connected_layer(120, 84))\n",
    "        self.layers.append(activation_func('relu'))\n",
    "        self.layers.append(fully_connected_layer(84, 2))\n",
    "        self.layers.append(activation_func('relu'))\n",
    "        \n",
    "        self.num_layers = len(self.layers)\n",
    "        \n",
    "    def fit(self, inp):\n",
    "        for l in range(self.num_layers):\n",
    "            print(l)\n",
    "            out = self.layers[l].forward(inp)\n",
    "            inp = out\n",
    "        return out"
   ]
  },
  {
   "cell_type": "code",
   "execution_count": 161,
   "metadata": {},
   "outputs": [
    {
     "name": "stdout",
     "output_type": "stream",
     "text": [
      "0\n",
      "1\n",
      "2\n",
      "3\n",
      "4\n",
      "5\n",
      "6\n",
      "7\n",
      "8\n",
      "9\n",
      "10\n",
      "11\n",
      "12\n"
     ]
    },
    {
     "data": {
      "text/plain": [
       "array([[1645.13469665, 1625.24214888]])"
      ]
     },
     "execution_count": 161,
     "metadata": {},
     "output_type": "execute_result"
    }
   ],
   "source": [
    "cnn = conv_neural_net()\n",
    "cnn.fit(input_img)"
   ]
  },
  {
   "cell_type": "code",
   "execution_count": null,
   "metadata": {},
   "outputs": [],
   "source": []
  }
 ],
 "metadata": {
  "kernelspec": {
   "display_name": "Python 3",
   "language": "python",
   "name": "python3"
  },
  "language_info": {
   "codemirror_mode": {
    "name": "ipython",
    "version": 3
   },
   "file_extension": ".py",
   "mimetype": "text/x-python",
   "name": "python",
   "nbconvert_exporter": "python",
   "pygments_lexer": "ipython3",
   "version": "3.5.2"
  }
 },
 "nbformat": 4,
 "nbformat_minor": 2
}
